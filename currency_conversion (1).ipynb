{
  "nbformat": 4,
  "nbformat_minor": 0,
  "metadata": {
    "colab": {
      "provenance": []
    },
    "kernelspec": {
      "name": "python3",
      "display_name": "Python 3"
    },
    "language_info": {
      "name": "python"
    }
  },
  "cells": [
    {
      "cell_type": "code",
      "execution_count": 51,
      "metadata": {
        "id": "be-e1_SoowQS"
      },
      "outputs": [],
      "source": [
        "import os\n",
        "os.environ[\"OPENAI_API_KEY\"] = \"sk-proj-2oCiQGD-PYRYC7Kz0Wo39d1V8ZaZg6N0yiXPGvUwTrVT7w3XqpmMRf0MMmTvGl_w_Ztb41FXYNPgA\""
      ]
    },
    {
      "cell_type": "markdown",
      "source": [
        "# Real Time Currency Conversion (between any two currencies)"
      ],
      "metadata": {
        "id": "LDFIQOE7l_ar"
      }
    },
    {
      "cell_type": "code",
      "source": [
        "!pip install -q langchain-openai langchain-core requests"
      ],
      "metadata": {
        "id": "tdfvfHzDpKuB"
      },
      "execution_count": 52,
      "outputs": []
    },
    {
      "cell_type": "code",
      "source": [
        "from langchain_openai import ChatOpenAI\n",
        "from langchain_core.tools import tool\n",
        "from langchain_core.messages import HumanMessage\n",
        "import requests"
      ],
      "metadata": {
        "id": "mebgO9RMpP3Q"
      },
      "execution_count": 53,
      "outputs": []
    },
    {
      "cell_type": "code",
      "source": [
        "#Tool create\n",
        "from langchain_core.tools import InjectedToolArg\n",
        "from typing import Annotated\n",
        "@tool\n",
        "\n",
        "def get_conversion_factor(base_currency:str,target_currency:str) ->float:\n",
        "  \"\"\"This function  fetches the currency conversion fator between a given base currency and a target currency\n",
        "  \"\"\"\n",
        "  url= f\"https://v6.exchangerate-api.com/v6/e8041040d1f0e/pair/{base_currency}/{target_currency}\"\n",
        "  response = requests.get(url)\n",
        "  return response.json()\n",
        "@tool\n",
        "def convert(base_currency: int, conversion_rate: Annotated[float, InjectedToolArg]) -> float:\n",
        "\n",
        "  \"\"\"given a currency conversion rate this function calculates the target currency value from a given base currency value\n",
        "  \"\"\"\n",
        "  return base_currency*conversion_rate"
      ],
      "metadata": {
        "id": "OZaXDbHhpP5z"
      },
      "execution_count": 100,
      "outputs": []
    },
    {
      "cell_type": "code",
      "source": [
        "get_conversion_factor.invoke({'base_currency':'USD','target_currency':'INR'})"
      ],
      "metadata": {
        "colab": {
          "base_uri": "https://localhost:8080/"
        },
        "id": "tyuYVlTKpP8m",
        "outputId": "c56bab16-5b30-4b13-f776-252e2b1e0ef1"
      },
      "execution_count": 101,
      "outputs": [
        {
          "output_type": "execute_result",
          "data": {
            "text/plain": [
              "{'result': 'success',\n",
              " 'documentation': 'https://www.exchangerate-api.com/docs',\n",
              " 'terms_of_use': 'https://www.exchangerate-api.com/terms',\n",
              " 'time_last_update_unix': 1749081601,\n",
              " 'time_last_update_utc': 'Thu, 05 Jun 2025 00:00:01 +0000',\n",
              " 'time_next_update_unix': 1749168001,\n",
              " 'time_next_update_utc': 'Fri, 06 Jun 2025 00:00:01 +0000',\n",
              " 'base_code': 'USD',\n",
              " 'target_code': 'INR',\n",
              " 'conversion_rate': 85.9019}"
            ]
          },
          "metadata": {},
          "execution_count": 101
        }
      ]
    },
    {
      "cell_type": "code",
      "source": [
        "convert.invoke({'base_currency':10,'conversion_rate':85.9019})"
      ],
      "metadata": {
        "colab": {
          "base_uri": "https://localhost:8080/"
        },
        "id": "_Um2w_cD1iCr",
        "outputId": "5cb968da-63ca-4869-ce38-1d3b38993483"
      },
      "execution_count": 102,
      "outputs": [
        {
          "output_type": "execute_result",
          "data": {
            "text/plain": [
              "859.019"
            ]
          },
          "metadata": {},
          "execution_count": 102
        }
      ]
    },
    {
      "cell_type": "code",
      "source": [
        "#tool binding\n",
        "llm = ChatOpenAI()"
      ],
      "metadata": {
        "id": "MJUET2Zb33VP"
      },
      "execution_count": 103,
      "outputs": []
    },
    {
      "cell_type": "code",
      "source": [
        "llm_with_tools = llm.bind_tools([get_conversion_factor,convert])   #binded two tools"
      ],
      "metadata": {
        "id": "4P2KH5P03_2V"
      },
      "execution_count": 104,
      "outputs": []
    },
    {
      "cell_type": "code",
      "source": [
        "messages = [HumanMessage('What is the conversion factor between USD and INR, and based on that can you convert 10 USD to INR')]"
      ],
      "metadata": {
        "id": "ZyIPKD75btwZ"
      },
      "execution_count": 105,
      "outputs": []
    },
    {
      "cell_type": "code",
      "source": [
        "messages"
      ],
      "metadata": {
        "colab": {
          "base_uri": "https://localhost:8080/"
        },
        "id": "1Gegfywh431o",
        "outputId": "120d7faf-565d-4fe0-acea-cf88a8afe58e"
      },
      "execution_count": 106,
      "outputs": [
        {
          "output_type": "execute_result",
          "data": {
            "text/plain": [
              "[HumanMessage(content='What is the conversion factor between USD and INR, and based on that can you convert 10 USD to INR', additional_kwargs={}, response_metadata={})]"
            ]
          },
          "metadata": {},
          "execution_count": 106
        }
      ]
    },
    {
      "cell_type": "code",
      "source": [
        "ai_messages = llm_with_tools.invoke(messages)"
      ],
      "metadata": {
        "id": "pCWwccWM6JKC"
      },
      "execution_count": 107,
      "outputs": []
    },
    {
      "cell_type": "code",
      "source": [
        "messages.append(ai_messages)"
      ],
      "metadata": {
        "id": "OUJpQTfXTj-K"
      },
      "execution_count": 108,
      "outputs": []
    },
    {
      "cell_type": "code",
      "source": [
        "ai_messages.tool_calls"
      ],
      "metadata": {
        "colab": {
          "base_uri": "https://localhost:8080/"
        },
        "id": "__CI_-4h6ZNW",
        "outputId": "ffe71823-cd64-4d69-8782-9bab0da90fd6"
      },
      "execution_count": 109,
      "outputs": [
        {
          "output_type": "execute_result",
          "data": {
            "text/plain": [
              "[{'name': 'get_conversion_factor',\n",
              "  'args': {'base_currency': 'USD', 'target_currency': 'INR'},\n",
              "  'id': 'call_VhvrS8KljC8kHFJz1Ga2kGNX',\n",
              "  'type': 'tool_call'},\n",
              " {'name': 'convert',\n",
              "  'args': {'base_currency': 10},\n",
              "  'id': 'call_6yvuy0MMGu421TtgfsXe9na0',\n",
              "  'type': 'tool_call'}]"
            ]
          },
          "metadata": {},
          "execution_count": 109
        }
      ]
    },
    {
      "cell_type": "code",
      "source": [
        "import json\n",
        "\n",
        "for tool_call in ai_messages.tool_calls:\n",
        "  # execute the 1st tool and get the value of conversion rate\n",
        "  if tool_call['name'] == 'get_conversion_factor':\n",
        "    tool_message1 = get_conversion_factor.invoke(tool_call)\n",
        "    # fetch this conversion rate\n",
        "    conversion_rate = json.loads(tool_message1.content)['conversion_rate']\n",
        "    # append this tool message to messages list\n",
        "    messages.append(tool_message1)\n",
        "  # execute the 2nd tool using the conversion rate from tool 1\n",
        "  if tool_call['name'] == 'convert':\n",
        "    # fetch the current arg\n",
        "    tool_call['args']['conversion_rate'] = conversion_rate\n",
        "    tool_message2 = convert.invoke(tool_call)\n",
        "    messages.append(tool_message2)\n",
        "\n"
      ],
      "metadata": {
        "id": "mspb3_GVlm2_"
      },
      "execution_count": 110,
      "outputs": []
    },
    {
      "cell_type": "code",
      "source": [
        "messages"
      ],
      "metadata": {
        "id": "en83RQpS6g8A",
        "colab": {
          "base_uri": "https://localhost:8080/"
        },
        "outputId": "19cfb8a0-af70-4607-e9c3-f0df8334aba2"
      },
      "execution_count": 96,
      "outputs": [
        {
          "output_type": "execute_result",
          "data": {
            "text/plain": [
              "[HumanMessage(content='What is the conversion factor between USD and INR, and based on that can you convert 10 USD to INR', additional_kwargs={}, response_metadata={}),\n",
              " AIMessage(content='', additional_kwargs={'tool_calls': [{'id': 'call_kbNY7GkVHdh3izgOZxmHBc6k', 'function': {'arguments': '{\"base_currency\": \"USD\", \"target_currency\": \"INR\"}', 'name': 'get_conversion_factor'}, 'type': 'function'}, {'id': 'call_bigRJRZUjuNo21Io7C3aqmuB', 'function': {'arguments': '{\"base_currency\": 10}', 'name': 'convert'}, 'type': 'function'}], 'refusal': None}, response_metadata={'token_usage': {'completion_tokens': 51, 'prompt_tokens': 123, 'total_tokens': 174, 'completion_tokens_details': {'accepted_prediction_tokens': 0, 'audio_tokens': 0, 'reasoning_tokens': 0, 'rejected_prediction_tokens': 0}, 'prompt_tokens_details': {'audio_tokens': 0, 'cached_tokens': 0}}, 'model_name': 'gpt-3.5-turbo-0125', 'system_fingerprint': None, 'id': 'chatcmpl-BewydmjD8ikMWdeGGc5dNduArO2fY', 'service_tier': 'default', 'finish_reason': 'tool_calls', 'logprobs': None}, id='run--0ac0214a-9ddf-4823-9a8d-beba63a7c701-0', tool_calls=[{'name': 'get_conversion_factor', 'args': {'base_currency': 'USD', 'target_currency': 'INR'}, 'id': 'call_kbNY7GkVHdh3izgOZxmHBc6k', 'type': 'tool_call'}, {'name': 'convert', 'args': {'base_currency': 10, 'conversion_rate': 85.9019}, 'id': 'call_bigRJRZUjuNo21Io7C3aqmuB', 'type': 'tool_call'}], usage_metadata={'input_tokens': 123, 'output_tokens': 51, 'total_tokens': 174, 'input_token_details': {'audio': 0, 'cache_read': 0}, 'output_token_details': {'audio': 0, 'reasoning': 0}}),\n",
              " ToolMessage(content='{\"result\": \"success\", \"documentation\": \"https://www.exchangerate-api.com/docs\", \"terms_of_use\": \"https://www.exchangerate-api.com/terms\", \"time_last_update_unix\": 1749081601, \"time_last_update_utc\": \"Thu, 05 Jun 2025 00:00:01 +0000\", \"time_next_update_unix\": 1749168001, \"time_next_update_utc\": \"Fri, 06 Jun 2025 00:00:01 +0000\", \"base_code\": \"USD\", \"target_code\": \"INR\", \"conversion_rate\": 85.9019}', name='get_conversion_factor', tool_call_id='call_kbNY7GkVHdh3izgOZxmHBc6k'),\n",
              " ToolMessage(content='{\"result\": \"success\", \"documentation\": \"https://www.exchangerate-api.com/docs\", \"terms_of_use\": \"https://www.exchangerate-api.com/terms\", \"time_last_update_unix\": 1749081601, \"time_last_update_utc\": \"Thu, 05 Jun 2025 00:00:01 +0000\", \"time_next_update_unix\": 1749168001, \"time_next_update_utc\": \"Fri, 06 Jun 2025 00:00:01 +0000\", \"base_code\": \"USD\", \"target_code\": \"INR\", \"conversion_rate\": 85.9019}', name='get_conversion_factor', tool_call_id='call_kbNY7GkVHdh3izgOZxmHBc6k'),\n",
              " ToolMessage(content='{\"result\": \"success\", \"documentation\": \"https://www.exchangerate-api.com/docs\", \"terms_of_use\": \"https://www.exchangerate-api.com/terms\", \"time_last_update_unix\": 1749081601, \"time_last_update_utc\": \"Thu, 05 Jun 2025 00:00:01 +0000\", \"time_next_update_unix\": 1749168001, \"time_next_update_utc\": \"Fri, 06 Jun 2025 00:00:01 +0000\", \"base_code\": \"USD\", \"target_code\": \"INR\", \"conversion_rate\": 85.9019}', name='get_conversion_factor', tool_call_id='call_kbNY7GkVHdh3izgOZxmHBc6k'),\n",
              " ToolMessage(content='859.019', name='convert', tool_call_id='call_bigRJRZUjuNo21Io7C3aqmuB')]"
            ]
          },
          "metadata": {},
          "execution_count": 96
        }
      ]
    },
    {
      "cell_type": "code",
      "source": [
        "llm_with_tools.invoke(messages).content"
      ],
      "metadata": {
        "colab": {
          "base_uri": "https://localhost:8080/",
          "height": 35
        },
        "id": "dk5jnG31kMxc",
        "outputId": "68dee9f9-829f-4df8-a41a-f74c69b93307"
      },
      "execution_count": 111,
      "outputs": [
        {
          "output_type": "execute_result",
          "data": {
            "text/plain": [
              "'The conversion factor between USD and INR is 85.9019. \\n\\nTherefore, 10 USD is equivalent to 859.019 INR.'"
            ],
            "application/vnd.google.colaboratory.intrinsic+json": {
              "type": "string"
            }
          },
          "metadata": {},
          "execution_count": 111
        }
      ]
    },
    {
      "cell_type": "code",
      "source": [],
      "metadata": {
        "id": "r_abp-34k0x9"
      },
      "execution_count": null,
      "outputs": []
    }
  ]
}